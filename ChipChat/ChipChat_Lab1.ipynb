{
  "nbformat": 4,
  "nbformat_minor": 0,
  "metadata": {
    "colab": {
      "provenance": []
    },
    "kernelspec": {
      "name": "python3",
      "display_name": "Python 3"
    },
    "language_info": {
      "name": "python"
    }
  },
  "cells": [
    {
      "cell_type": "markdown",
      "source": [
        "# Getting set up"
      ],
      "metadata": {
        "id": "m8ajURpMKH3k"
      }
    },
    {
      "cell_type": "markdown",
      "source": [
        "## Setting up the notebook"
      ],
      "metadata": {
        "id": "-V7YtDoDKTWp"
      }
    },
    {
      "cell_type": "code",
      "execution_count": 45,
      "metadata": {
        "colab": {
          "base_uri": "https://localhost:8080/"
        },
        "id": "Wk0tyl8wJq1A",
        "outputId": "5efceac3-da0e-4d74-960d-b32efb78696c"
      },
      "outputs": [
        {
          "output_type": "stream",
          "name": "stdout",
          "text": [
            "Requirement already satisfied: openai in /usr/local/lib/python3.12/dist-packages (1.107.0)\n",
            "Requirement already satisfied: anyio<5,>=3.5.0 in /usr/local/lib/python3.12/dist-packages (from openai) (4.10.0)\n",
            "Requirement already satisfied: distro<2,>=1.7.0 in /usr/local/lib/python3.12/dist-packages (from openai) (1.9.0)\n",
            "Requirement already satisfied: httpx<1,>=0.23.0 in /usr/local/lib/python3.12/dist-packages (from openai) (0.28.1)\n",
            "Requirement already satisfied: jiter<1,>=0.4.0 in /usr/local/lib/python3.12/dist-packages (from openai) (0.10.0)\n",
            "Requirement already satisfied: pydantic<3,>=1.9.0 in /usr/local/lib/python3.12/dist-packages (from openai) (2.11.7)\n",
            "Requirement already satisfied: sniffio in /usr/local/lib/python3.12/dist-packages (from openai) (1.3.1)\n",
            "Requirement already satisfied: tqdm>4 in /usr/local/lib/python3.12/dist-packages (from openai) (4.67.1)\n",
            "Requirement already satisfied: typing-extensions<5,>=4.11 in /usr/local/lib/python3.12/dist-packages (from openai) (4.15.0)\n",
            "Requirement already satisfied: idna>=2.8 in /usr/local/lib/python3.12/dist-packages (from anyio<5,>=3.5.0->openai) (3.10)\n",
            "Requirement already satisfied: certifi in /usr/local/lib/python3.12/dist-packages (from httpx<1,>=0.23.0->openai) (2025.8.3)\n",
            "Requirement already satisfied: httpcore==1.* in /usr/local/lib/python3.12/dist-packages (from httpx<1,>=0.23.0->openai) (1.0.9)\n",
            "Requirement already satisfied: h11>=0.16 in /usr/local/lib/python3.12/dist-packages (from httpcore==1.*->httpx<1,>=0.23.0->openai) (0.16.0)\n",
            "Requirement already satisfied: annotated-types>=0.6.0 in /usr/local/lib/python3.12/dist-packages (from pydantic<3,>=1.9.0->openai) (0.7.0)\n",
            "Requirement already satisfied: pydantic-core==2.33.2 in /usr/local/lib/python3.12/dist-packages (from pydantic<3,>=1.9.0->openai) (2.33.2)\n",
            "Requirement already satisfied: typing-inspection>=0.4.0 in /usr/local/lib/python3.12/dist-packages (from pydantic<3,>=1.9.0->openai) (0.4.1)\n",
            "Hit:1 https://cli.github.com/packages stable InRelease\n",
            "Hit:2 https://cloud.r-project.org/bin/linux/ubuntu jammy-cran40/ InRelease\n",
            "Hit:3 https://developer.download.nvidia.com/compute/cuda/repos/ubuntu2204/x86_64  InRelease\n",
            "Hit:4 http://archive.ubuntu.com/ubuntu jammy InRelease\n",
            "Hit:5 http://archive.ubuntu.com/ubuntu jammy-updates InRelease\n",
            "Hit:6 http://security.ubuntu.com/ubuntu jammy-security InRelease\n",
            "Hit:7 https://r2u.stat.illinois.edu/ubuntu jammy InRelease\n",
            "Hit:8 http://archive.ubuntu.com/ubuntu jammy-backports InRelease\n",
            "Hit:9 https://ppa.launchpadcontent.net/deadsnakes/ppa/ubuntu jammy InRelease\n",
            "Hit:10 https://ppa.launchpadcontent.net/graphics-drivers/ppa/ubuntu jammy InRelease\n",
            "Hit:11 https://ppa.launchpadcontent.net/ubuntugis/ppa/ubuntu jammy InRelease\n",
            "Reading package lists... Done\n",
            "W: Skipping acquire of configured file 'main/source/Sources' as repository 'https://r2u.stat.illinois.edu/ubuntu jammy InRelease' does not seem to provide it (sources.list entry misspelt?)\n",
            "Reading package lists... Done\n",
            "Building dependency tree... Done\n",
            "Reading state information... Done\n",
            "iverilog is already the newest version (11.0-1.1).\n",
            "0 upgraded, 0 newly installed, 0 to remove and 40 not upgraded.\n"
          ]
        }
      ],
      "source": [
        "### Installing dependencies\n",
        "!pip install openai\n",
        "\n",
        "!apt-get update\n",
        "!apt-get install -y iverilog"
      ]
    },
    {
      "cell_type": "markdown",
      "source": [
        "## Use LLM to generate Verilog code from natural language description"
      ],
      "metadata": {
        "id": "21hLN_oKKu3N"
      }
    },
    {
      "cell_type": "markdown",
      "source": [
        "### Example 1: binary_to_bcd"
      ],
      "metadata": {
        "id": "qJBgq3LIiVvm"
      }
    },
    {
      "cell_type": "code",
      "source": [
        "! mkdir -p binary_to_bcd\n",
        "! cd binary_to_bcd && curl -O https://raw.githubusercontent.com/FCHXWH823/LLM4ChipDesign/fe806e8f8b7cb8442ce161f452d070cfcf953656/VerilogGenBenchmark/TestBench/binary_to_bcd_tb.v"
      ],
      "metadata": {
        "id": "FHG8zBnIm-JL",
        "colab": {
          "base_uri": "https://localhost:8080/"
        },
        "outputId": "648e0a78-da64-481e-88bd-b6bd47bb3ab9"
      },
      "execution_count": 62,
      "outputs": [
        {
          "output_type": "stream",
          "name": "stdout",
          "text": [
            "  % Total    % Received % Xferd  Average Speed   Time    Time     Time  Current\n",
            "                                 Dload  Upload   Total   Spent    Left  Speed\n",
            "100  1078  100  1078    0     0   2302      0 --:--:-- --:--:-- --:--:--  2303\n"
          ]
        }
      ]
    },
    {
      "cell_type": "code",
      "source": [
        "verilog_generation_prompt = '''\n",
        "I am trying to create a Verilog model binary_to_bcd_converter for a binary to binary-coded-decimal converter. It must meet the following specifications:\n",
        "\t- Inputs:\n",
        "\t\t- Binary input (5-bits)\n",
        "\t- Outputs:\n",
        "\t\t- BCD (8-bits: 4-bits for the 10's place and 4-bits for the 1's place)\n",
        "\n",
        "How would I write a design that meets these specifications?\n",
        "\n",
        "module binary_to_bcd_converter (\n",
        "    input  [4:0] bin_in,   // 5-bit binary input (0-31 decimal)\n",
        "    output [7:0] bcd_out   // 8-bit BCD output: [7:4]=tens, [3:0]=ones\n",
        ");\n",
        "\n",
        "    // Internal registers for combinational logic\n",
        "    reg [3:0] tens_reg;\n",
        "    reg [3:0] ones_reg;\n",
        "\n",
        "    // Combinational always block for BCD conversion\n",
        "    always @(*) begin\n",
        "        tens_reg = bin_in / 5'd10;  // Integer division (tens digit: 0-3)\n",
        "        ones_reg = bin_in % 5'd10;  // Modulo (ones digit: 0-9)\n",
        "    end\n",
        "\n",
        "    // Assign BCD output (upper 4 bits = tens, lower 4 bits = ones)\n",
        "    assign bcd_out = {tens_reg, ones_reg};\n",
        "\n",
        "endmodule\n",
        "\n",
        "binary_to_bcd_tb.v:8: error: port ``binary_input'' is not a port of uut.\n",
        "binary_to_bcd_tb.v:8: error: port ``bcd_output'' is not a port of uut.\n",
        "2 error(s) during elaboration.\n",
        "\n",
        "match the signals with the test bench to avoid signal mismatch\n",
        "'''"
      ],
      "metadata": {
        "id": "bZpkQ6vPiqjW"
      },
      "execution_count": 69,
      "outputs": []
    },
    {
      "cell_type": "markdown",
      "source": [
        "Now you can use the openai library to generate text from your prompt.\n",
        "\n",
        "Before using LLMs for Verilog generation, you have to first get the api-key:\n",
        "\n",
        "openai llms: https://platform.openai.com/api-keys\n",
        "deepseek llms: https://platform.deepseek.com/sign_in\n",
        "free llms provided by NVIDIA: https://build.nvidia.com/explore/discover"
      ],
      "metadata": {
        "id": "qIfOGR9cl6T8"
      }
    },
    {
      "cell_type": "code",
      "source": [
        "from openai import OpenAI\n",
        "import os\n",
        "client = OpenAI(base_url=\"https://openrouter.ai/api/v1\",\n",
        "    api_key = \"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\"\n",
        ")\n",
        "\n",
        "completion = client.chat.completions.create(\n",
        "  model = \"openrouter/sonoma-sky-alpha\",\n",
        "  messages=[{\"role\":\"user\",\"content\":verilog_generation_prompt}],\n",
        "  max_tokens=1700000, # limits the maximum number of tokens (words or pieces of words) that the model will generate in its response.\n",
        "  stream=False\n",
        ")\n",
        "\n",
        "print(completion.choices[0].message.content)"
      ],
      "metadata": {
        "colab": {
          "base_uri": "https://localhost:8080/"
        },
        "id": "CZ31luwgi0Lp",
        "outputId": "892f540e-f625-4729-8a96-a0d258e0eb83"
      },
      "execution_count": 70,
      "outputs": [
        {
          "output_type": "stream",
          "name": "stdout",
          "text": [
            "Below is a corrected Verilog design for your `binary_to_bcd_converter` module. I'll explain the changes and rationale step by step, including how I addressed the testbench port mismatch error you encountered.\n",
            "\n",
            "### Key Issues and Fixes\n",
            "1. **Port Name Mismatch**:\n",
            "   - Your module defines ports as `bin_in` (input) and `bcd_out` (output).\n",
            "   - The testbench error indicates it's trying to connect to `binary_input` (input) and `bcd_output` (output) during instantiation of the unit-under-test (uut).\n",
            "   - **Fix**: I've renamed the module's ports to `binary_input` and `bcd_output` to match what the testbench expects. This avoids elaboration errors without modifying the testbench (which you didn't provide). If you prefer to keep the original names, you'd need to update the testbench instantiation instead (e.g., change `.binary_input(uut_binary_input)` to `.bin_in(uut_binary_input)`).\n",
            "\n",
            "2. **Overall Design**:\n",
            "   - The module converts a 5-bit binary input (0–31 decimal) to an 8-bit BCD output, where `[7:4]` is the tens digit (0–3) and `[3:0]` is the ones digit (0–9).\n",
            "   - Your original logic using `/` (division) and `%` (modulo) is correct and synthesizable for this small range (Verilog treats the 5-bit input as an unsigned integer). It's efficient for a simple converter.\n",
            "   - I kept the combinational `always @(*)` block with internal `reg`s for clarity and to ensure no latches are inferred.\n",
            "   - No clock or reset is needed since this is a pure combinational design.\n",
            "   - For inputs 0–9, tens = 0 and ones = input. For 10–31, it correctly computes tens (1–3) and ones (0–9). E.g., 25 → tens=2, ones=5 → BCD = 8'b00100101.\n",
            "\n",
            "3. **Improvements**:\n",
            "   - Added comments for clarity.\n",
            "   - Used `logic` instead of `reg` for internal signals (modern Verilog style, but `reg` is fine too).\n",
            "   - Verified the design mentally/simulates correctly for 0–31 (you can test it).\n",
            "   - If synthesis tools complain about `/` and `%` (rare for small widths), you could replace with a `case` statement or lookup table, but it's unnecessary here.\n",
            "\n",
            "### Corrected Verilog Module\n",
            "```verilog\n",
            "module binary_to_bcd_converter (\n",
            "    input  [4:0] binary_input,  // 5-bit binary input (0-31 decimal)\n",
            "    output [7:0] bcd_output     // 8-bit BCD output: [7:4]=tens (0-3), [3:0]=ones (0-9)\n",
            ");\n",
            "\n",
            "    // Internal signals for combinational logic\n",
            "    logic [3:0] tens;\n",
            "    logic [3:0] ones;\n",
            "\n",
            "    // Combinational always block for BCD conversion\n",
            "    // Uses integer division and modulo (synthesizable for 5-bit input)\n",
            "    always @(*) begin\n",
            "        tens = binary_input / 5'd10;  // Tens digit: 0-3\n",
            "        ones = binary_input % 5'd10;  // Ones digit: 0-9\n",
            "    end\n",
            "\n",
            "    // Concatenate to form 8-bit BCD output\n",
            "    assign bcd_output = {tens, ones};\n",
            "\n",
            "endmodule\n",
            "```\n",
            "\n",
            "### How to Test/Verify\n",
            "- **Simulation**: Use your existing testbench (`binary_to_bcd_tb.v`). The port mismatch should now be resolved. If you share the testbench code, I can help debug further.\n",
            "- **Example Test Cases** (add these to your testbench if needed):\n",
            "  - Input `5'b00000` (0) → Output `8'b00000000` (BCD 00)\n",
            "  - Input `5'b01001` (9) → Output `8'b00000001` (BCD 09, but tens=0)\n",
            "  - Input `5'b01010` (10) → Output `8'b00010000` (BCD 10)\n",
            "  - Input `5'b01111` (15) → Output `8'b00010101` (BCD 15)\n",
            "  - Input `5'b11111` (31) → Output `8'b00110001` (BCD 31)\n",
            "\n",
            "- **Sample Testbench Snippet** (if you need to create/update one):\n",
            "  ```verilog\n",
            "  module binary_to_bcd_tb;\n",
            "      reg  [4:0] binary_input;\n",
            "      wire [7:0] bcd_output;\n",
            "\n",
            "      // Instantiate the module (UUT = Unit Under Test)\n",
            "      binary_to_bcd_converter uut (\n",
            "          .binary_input(binary_input),\n",
            "          .bcd_output(bcd_output)\n",
            "      );\n",
            "\n",
            "      // Test stimulus\n",
            "      initial begin\n",
            "          $dumpfile(\"binary_to_bcd.vcd\");  // For waveform viewing (e.g., in GTKWave)\n",
            "          $dumpvars(0, binary_to_bcd_tb);\n",
            "\n",
            "          // Test cases\n",
            "          binary_input = 5'd0;   #10 $display(\"Input: %d, Output: %b (BCD %d%d)\", 0, bcd_output, bcd_output[7:4], bcd_output[3:0]);\n",
            "          binary_input = 5'd9;   #10 $display(\"Input: %d, Output: %b (BCD %d%d)\", 9, bcd_output, bcd_output[7:4], bcd_output[3:0]);\n",
            "          binary_input = 5'd10;  #10 $display(\"Input: %d, Output: %b (BCD %d%d)\", 10, bcd_output, bcd_output[7:4], bcd_output[3:0]);\n",
            "          binary_input = 5'd25;  #10 $display(\"Input: %d, Output: %b (BCD %d%d)\", 25, bcd_output, bcd_output[7:4], bcd_output[3:0]);\n",
            "          binary_input = 5'd31;  #10 $display(\"Input: %d, Output: %b (BCD %d%d)\", 31, bcd_output, bcd_output[7:4], bcd_output[3:0]);\n",
            "\n",
            "          $finish;\n",
            "      end\n",
            "  endmodule\n",
            "  ```\n",
            "  - Run with: `iverilog -o sim binary_to_bcd_converter.v binary_to_bcd_tb.v && vvp sim` (assuming Icarus Verilog).\n",
            "\n",
            "### Alternative Implementation (Using Case Statement)\n",
            "If your synthesis tool doesn't like `/` and `%` (unlikely), here's an equivalent using a `case` for a lookup table (more explicit for small ranges):\n",
            "\n",
            "```verilog\n",
            "module binary_to_bcd_converter (\n",
            "    input  [4:0] binary_input,\n",
            "    output [7:0] bcd_output\n",
            ");\n",
            "\n",
            "    logic [7:0] bcd_lookup [0:31];  // Lookup table (optional, but can be unrolled)\n",
            "\n",
            "    // Initialize lookup (or use case in always block)\n",
            "    initial begin\n",
            "        bcd_lookup[0]  = 8'b00000000; bcd_lookup[1]  = 8'b00000001; bcd_lookup[2]  = 8'b00000010;\n",
            "        bcd_lookup[3]  = 8'b00000011; bcd_lookup[4]  = 8'b00000100; bcd_lookup[5]  = 8'b00000101;\n",
            "        bcd_lookup[6]  = 8'b00000110; bcd_lookup[7]  = 8'b00000111; bcd_lookup[8]  = 8'b00001000;\n",
            "        bcd_lookup[9]  = 8'b00001001; bcd_lookup[10] = 8'b00010000; bcd_lookup[11] = 8'b00010001;\n",
            "        bcd_lookup[12] = 8'b00010010; bcd_lookup[13] = 8'b00010011; bcd_lookup[14] = 8'b00010100;\n",
            "        bcd_lookup[15] = 8'b00010101; bcd_lookup[16] = 8'b00010110; bcd_lookup[17] = 8'b00010111;\n",
            "        bcd_lookup[18] = 8'b00011000; bcd_lookup[19] = 8'b00011001; bcd_lookup[20] = 8'b00100000;\n",
            "        bcd_lookup[21] = 8'b00100001; bcd_lookup[22] = 8'b00100010; bcd_lookup[23] = 8'b00100011;\n",
            "        bcd_lookup[24] = 8'b00100100; bcd_lookup[25] = 8'b00100101; bcd_lookup[26] = 8'b00100110;\n",
            "        bcd_lookup[27] = 8'b00100111; bcd_lookup[28] = 8'b00101000; bcd_lookup[29] = 8'b00101001;\n",
            "        bcd_lookup[30] = 8'b00110000; bcd_lookup[31] = 8'b00110001;\n",
            "    end\n",
            "\n",
            "    assign bcd_output = bcd_lookup[binary_input];\n",
            "\n",
            "endmodule\n",
            "```\n",
            "\n",
            "This should fully resolve your issues. If you provide the testbench code or more details (e.g., synthesis tool errors), I can refine further!\n"
          ]
        }
      ]
    },
    {
      "cell_type": "markdown",
      "source": [
        "Next, extract the generated verilog code from LLM response."
      ],
      "metadata": {
        "id": "RPMiOb1Nl1E-"
      }
    },
    {
      "cell_type": "code",
      "source": [
        "output_verilog_code = '''\n",
        "module binary_to_bcd_converter (\n",
        "    input  [4:0] binary_input,  // 5-bit binary input (0-31 decimal)\n",
        "    output [7:0] bcd_output     // 8-bit BCD output: [7:4]=tens (0-3), [3:0]=ones (0-9)\n",
        ");\n",
        "\n",
        "    // Internal signals for combinational logic\n",
        "    logic [3:0] tens;\n",
        "    logic [3:0] ones;\n",
        "\n",
        "    // Combinational always block for BCD conversion\n",
        "    // Uses integer division and modulo (synthesizable for 5-bit input)\n",
        "    always @(*) begin\n",
        "        tens = binary_input / 5'd10;  // Tens digit: 0-3\n",
        "        ones = binary_input % 5'd10;  // Ones digit: 0-9\n",
        "    end\n",
        "\n",
        "    // Concatenate to form 8-bit BCD output\n",
        "    assign bcd_output = {tens, ones};\n",
        "\n",
        "endmodule\n",
        "\n",
        "'''\n",
        "filename = \"binary_to_bcd/binary_to_bcd.v\"\n",
        "# Write the extracted Verilog code to the file\n",
        "with open(filename, \"w\") as f:\n",
        "    f.write(output_verilog_code)"
      ],
      "metadata": {
        "id": "dOIqEPj5jSqx"
      },
      "execution_count": 71,
      "outputs": []
    },
    {
      "cell_type": "markdown",
      "source": [
        "Use iverilog to verify the correctness of LLM generated verilog"
      ],
      "metadata": {
        "id": "TS7JaqmZl_ny"
      }
    },
    {
      "cell_type": "code",
      "source": [
        "!cd binary_to_bcd/ && iverilog -g2012 -o binary_to_bcd.vvp binary_to_bcd.v binary_to_bcd_tb.v && vvp binary_to_bcd.vvp"
      ],
      "metadata": {
        "colab": {
          "base_uri": "https://localhost:8080/"
        },
        "id": "AgOQT5M7jha3",
        "outputId": "96831d63-e67d-4b06-cd3d-e7ddb6bad0f4"
      },
      "execution_count": 72,
      "outputs": [
        {
          "output_type": "stream",
          "name": "stdout",
          "text": [
            "Testing Binary-to-BCD Converter...\n",
            "VCD info: dumpfile my_design.vcd opened for output.\n",
            "All test cases passed!\n"
          ]
        }
      ]
    },
    {
      "cell_type": "markdown",
      "source": [
        "### Example 2: Sequence detector"
      ],
      "metadata": {
        "id": "4ARE7bbeZHR2"
      }
    },
    {
      "cell_type": "code",
      "source": [
        "! mkdir -p sequence_detector\n",
        "! cd sequence_detector && curl -O https://raw.githubusercontent.com/FCHXWH823/LLM4ChipDesign/fe806e8f8b7cb8442ce161f452d070cfcf953656/VerilogGenBenchmark/TestBench/sequence_detector_tb.v"
      ],
      "metadata": {
        "id": "597rh2aXnFn_",
        "colab": {
          "base_uri": "https://localhost:8080/"
        },
        "outputId": "eeb1071a-c82f-49da-9ee9-313955014a0d"
      },
      "execution_count": 73,
      "outputs": [
        {
          "output_type": "stream",
          "name": "stdout",
          "text": [
            "  % Total    % Received % Xferd  Average Speed   Time    Time     Time  Current\n",
            "                                 Dload  Upload   Total   Spent    Left  Speed\n",
            "100  2114  100  2114    0     0  10284      0 --:--:-- --:--:-- --:--:-- 10312\n"
          ]
        }
      ]
    },
    {
      "cell_type": "code",
      "source": [
        "verilog_generation_prompt = '''\n",
        "I am trying to create a Verilog model for a sequence detector. It must meet the following specifications:\n",
        "\t- Inputs:\n",
        "\t\t- Clock\n",
        "\t\t- Active-low reset\n",
        "\t\t- Data (3 bits)\n",
        "\t- Outputs:\n",
        "\t\t- Sequence found\n",
        "\n",
        "While enabled, it should detect the following sequence of binary input values:\n",
        "\t- 0b001\n",
        "\t- 0b101\n",
        "\t- 0b110\n",
        "\t- 0b000\n",
        "\t- 0b110\n",
        "\t- 0b110\n",
        "\t- 0b011\n",
        "\t- 0b101\n",
        "\n",
        "How would I write a design that meets these specifications?\n",
        "\n",
        "Generated code :\n",
        "module sequence_detector (\n",
        "    input wire clk,\n",
        "    input wire reset_n,\n",
        "    input wire [2:0] data,\n",
        "    output wire sequence_found\n",
        ");\n",
        "\n",
        "    reg [3:0] state;\n",
        "\n",
        "    // State definitions (using numbers 0-8 for simplicity)\n",
        "    localparam S0 = 4'd0;\n",
        "    localparam S1 = 4'd1;\n",
        "    localparam S2 = 4'd2;\n",
        "    localparam S3 = 4'd3;\n",
        "    localparam S4 = 4'd4;\n",
        "    localparam S5 = 4'd5;\n",
        "    localparam S6 = 4'd6;\n",
        "    localparam S7 = 4'd7;\n",
        "    localparam S8 = 4'd8;\n",
        "\n",
        "    // Sequential logic for state transitions (synchronous reset)\n",
        "    always @(posedge clk or negedge reset_n) begin\n",
        "        if (!reset_n) begin\n",
        "            state <= S0;\n",
        "        end else begin\n",
        "            case (state)\n",
        "                S0: begin\n",
        "                    if (data == 3'b001) begin\n",
        "                        state <= S1;\n",
        "                    end else begin\n",
        "                        state <= S0;\n",
        "                    end\n",
        "                end\n",
        "                S1: begin\n",
        "                    if (data == 3'b101) begin\n",
        "                        state <= S2;\n",
        "                    end else begin\n",
        "                        state <= S0;\n",
        "                    end\n",
        "                end\n",
        "                S2: begin\n",
        "                    if (data == 3'b110) begin\n",
        "                        state <= S3;\n",
        "                    end else begin\n",
        "                        state <= S0;\n",
        "                    end\n",
        "                end\n",
        "                S3: begin\n",
        "                    if (data == 3'b000) begin\n",
        "                        state <= S4;\n",
        "                    end else begin\n",
        "                        state <= S0;\n",
        "                    end\n",
        "                end\n",
        "                S4: begin\n",
        "                    if (data == 3'b110) begin\n",
        "                        state <= S5;\n",
        "                    end else begin\n",
        "                        state <= S0;\n",
        "                    end\n",
        "                end\n",
        "                S5: begin\n",
        "                    if (data == 3'b110) begin\n",
        "                        state <= S6;\n",
        "                    end else begin\n",
        "                        state <= S0;\n",
        "                    end\n",
        "                end\n",
        "                S6: begin\n",
        "                    if (data == 3'b011) begin\n",
        "                        state <= S7;\n",
        "                    end else begin\n",
        "                        state <= S0;\n",
        "                    end\n",
        "                end\n",
        "                S7: begin\n",
        "                    if (data == 3'b101) begin\n",
        "                        state <= S8;\n",
        "                    end else begin\n",
        "                        state <= S0;\n",
        "                    end\n",
        "                end\n",
        "                S8: begin\n",
        "                    state <= S0;  // Reset to start after detection\n",
        "                end\n",
        "                default: begin\n",
        "                    state <= S0;\n",
        "                end\n",
        "            endcase\n",
        "        end\n",
        "    end\n",
        "\n",
        "    // Combinational logic for output (Moore machine: output depends on state)\n",
        "    assign sequence_found = (state == S8);\n",
        "\n",
        "endmodule\n",
        "\n",
        "Tool Feedback:\n",
        "\n",
        "Error: Cycle 8, Expected: 1, Got: 0\n",
        "\n",
        "'''"
      ],
      "metadata": {
        "id": "5gQpRbNbZGWF"
      },
      "execution_count": 96,
      "outputs": []
    },
    {
      "cell_type": "code",
      "source": [
        "from openai import OpenAI\n",
        "import os\n",
        "client = OpenAI(base_url=\"https://openrouter.ai/api/v1\",\n",
        "    api_key = \"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\"\n",
        ")\n",
        "\n",
        "completion = client.chat.completions.create(\n",
        "  model = \"openrouter/sonoma-sky-alpha\",\n",
        "  messages=[{\"role\":\"user\",\"content\":verilog_generation_prompt}],\n",
        "  max_tokens=1700000, # limits the maximum number of tokens (words or pieces of words) that the model will generate in its response.\n",
        "  stream=False\n",
        ")\n",
        "\n",
        "print(completion.choices[0].message.content)"
      ],
      "metadata": {
        "colab": {
          "base_uri": "https://localhost:8080/"
        },
        "id": "JSc-LvHEZSTR",
        "outputId": "bb495a3c-0d3f-4a3d-f085-900624c6e50c"
      },
      "execution_count": 97,
      "outputs": [
        {
          "output_type": "stream",
          "name": "stdout",
          "text": [
            "```verilog\n",
            "module sequence_detector (\n",
            "    input wire clk,\n",
            "    input wire reset_n,\n",
            "    input wire [2:0] data,\n",
            "    output wire sequence_found\n",
            ");\n",
            "\n",
            "    reg [3:0] state;\n",
            "\n",
            "    // State definitions (using numbers 0-7 for simplicity, no S8 needed)\n",
            "    localparam S0 = 4'd0;\n",
            "    localparam S1 = 4'd1;\n",
            "    localparam S2 = 4'd2;\n",
            "    localparam S3 = 4'd3;\n",
            "    localparam S4 = 4'd4;\n",
            "    localparam S5 = 4'd5;\n",
            "    localparam S6 = 4'd6;\n",
            "    localparam S7 = 4'd7;\n",
            "\n",
            "    // Sequential logic for state transitions (synchronous reset)\n",
            "    always @(posedge clk or negedge reset_n) begin\n",
            "        if (!reset_n) begin\n",
            "            state <= S0;\n",
            "        end else begin\n",
            "            case (state)\n",
            "                S0: begin\n",
            "                    if (data == 3'b001) begin\n",
            "                        state <= S1;\n",
            "                    end else begin\n",
            "                        state <= S0;\n",
            "                    end\n",
            "                end\n",
            "                S1: begin\n",
            "                    if (data == 3'b101) begin\n",
            "                        state <= S2;\n",
            "                    end else begin\n",
            "                        state <= S0;\n",
            "                    end\n",
            "                end\n",
            "                S2: begin\n",
            "                    if (data == 3'b110) begin\n",
            "                        state <= S3;\n",
            "                    end else begin\n",
            "                        state <= S0;\n",
            "                    end\n",
            "                end\n",
            "                S3: begin\n",
            "                    if (data == 3'b000) begin\n",
            "                        state <= S4;\n",
            "                    end else begin\n",
            "                        state <= S0;\n",
            "                    end\n",
            "                end\n",
            "                S4: begin\n",
            "                    if (data == 3'b110) begin\n",
            "                        state <= S5;\n",
            "                    end else begin\n",
            "                        state <= S0;\n",
            "                    end\n",
            "                end\n",
            "                S5: begin\n",
            "                    if (data == 3'b110) begin\n",
            "                        state <= S6;\n",
            "                    end else begin\n",
            "                        state <= S0;\n",
            "                    end\n",
            "                end\n",
            "                S6: begin\n",
            "                    if (data == 3'b011) begin\n",
            "                        state <= S7;\n",
            "                    end else begin\n",
            "                        state <= S0;\n",
            "                    end\n",
            "                end\n",
            "                S7: begin\n",
            "                    // On match, transition back to S0 (sequence complete)\n",
            "                    // On mismatch, also back to S0 (no overlap assumed)\n",
            "                    state <= S0;\n",
            "                end\n",
            "                default: begin\n",
            "                    state <= S0;\n",
            "                end\n",
            "            endcase\n",
            "        end\n",
            "    end\n",
            "\n",
            "    // Combinational logic for output (Mealy machine: output depends on state and input)\n",
            "    // Assert output when in S7 and receiving the final sequence element\n",
            "    assign sequence_found = (state == S7 && data == 3'b101);\n",
            "\n",
            "endmodule\n",
            "```\n"
          ]
        }
      ]
    },
    {
      "cell_type": "markdown",
      "source": [
        "Next, extract the generated verilog code from LLM response."
      ],
      "metadata": {
        "id": "xkD1xrarZnKk"
      }
    },
    {
      "cell_type": "code",
      "source": [
        "output_verilog_code = '''\n",
        "module sequence_detector (\n",
        "    input wire clk,\n",
        "    input wire reset_n,\n",
        "    input wire [2:0] data,\n",
        "    output wire sequence_found\n",
        ");\n",
        "\n",
        "    reg [3:0] state;\n",
        "\n",
        "    // State definitions (using numbers 0-7 for simplicity, no S8 needed)\n",
        "    localparam S0 = 4'd0;\n",
        "    localparam S1 = 4'd1;\n",
        "    localparam S2 = 4'd2;\n",
        "    localparam S3 = 4'd3;\n",
        "    localparam S4 = 4'd4;\n",
        "    localparam S5 = 4'd5;\n",
        "    localparam S6 = 4'd6;\n",
        "    localparam S7 = 4'd7;\n",
        "\n",
        "    // Sequential logic for state transitions (synchronous reset)\n",
        "    always @(posedge clk or negedge reset_n) begin\n",
        "        if (!reset_n) begin\n",
        "            state <= S0;\n",
        "        end else begin\n",
        "            case (state)\n",
        "                S0: begin\n",
        "                    if (data == 3'b001) begin\n",
        "                        state <= S1;\n",
        "                    end else begin\n",
        "                        state <= S0;\n",
        "                    end\n",
        "                end\n",
        "                S1: begin\n",
        "                    if (data == 3'b101) begin\n",
        "                        state <= S2;\n",
        "                    end else begin\n",
        "                        state <= S0;\n",
        "                    end\n",
        "                end\n",
        "                S2: begin\n",
        "                    if (data == 3'b110) begin\n",
        "                        state <= S3;\n",
        "                    end else begin\n",
        "                        state <= S0;\n",
        "                    end\n",
        "                end\n",
        "                S3: begin\n",
        "                    if (data == 3'b000) begin\n",
        "                        state <= S4;\n",
        "                    end else begin\n",
        "                        state <= S0;\n",
        "                    end\n",
        "                end\n",
        "                S4: begin\n",
        "                    if (data == 3'b110) begin\n",
        "                        state <= S5;\n",
        "                    end else begin\n",
        "                        state <= S0;\n",
        "                    end\n",
        "                end\n",
        "                S5: begin\n",
        "                    if (data == 3'b110) begin\n",
        "                        state <= S6;\n",
        "                    end else begin\n",
        "                        state <= S0;\n",
        "                    end\n",
        "                end\n",
        "                S6: begin\n",
        "                    if (data == 3'b011) begin\n",
        "                        state <= S7;\n",
        "                    end else begin\n",
        "                        state <= S0;\n",
        "                    end\n",
        "                end\n",
        "                S7: begin\n",
        "                    // On match, transition back to S0 (sequence complete)\n",
        "                    // On mismatch, also back to S0 (no overlap assumed)\n",
        "                    state <= S0;\n",
        "                end\n",
        "                default: begin\n",
        "                    state <= S0;\n",
        "                end\n",
        "            endcase\n",
        "        end\n",
        "    end\n",
        "\n",
        "    // Combinational logic for output (Mealy machine: output depends on state and input)\n",
        "    // Assert output when in S7 and receiving the final sequence element\n",
        "    assign sequence_found = (state == S7 && data == 3'b101);\n",
        "\n",
        "endmodule\n",
        "'''\n",
        "filename = \"sequence_detector/sequence_detector.v\"\n",
        "# Write the extracted Verilog code to the file\n",
        "with open(filename, \"w\") as f:\n",
        "    f.write(output_verilog_code)"
      ],
      "metadata": {
        "id": "jPEnpjA9Znzg"
      },
      "execution_count": 98,
      "outputs": []
    },
    {
      "cell_type": "code",
      "source": [
        "!cd sequence_detector/ && iverilog -g2012 -o sequence_detector.vvp sequence_detector.v sequence_detector_tb.v && vvp sequence_detector.vvp"
      ],
      "metadata": {
        "colab": {
          "base_uri": "https://localhost:8080/"
        },
        "id": "8x4mDh2oaDzU",
        "outputId": "bccb9157-5b28-45f8-f464-8aa4b03146e8"
      },
      "execution_count": 99,
      "outputs": [
        {
          "output_type": "stream",
          "name": "stdout",
          "text": [
            "All test cases passed.\n"
          ]
        }
      ]
    },
    {
      "cell_type": "markdown",
      "source": [
        "### Example 3: Shift Register"
      ],
      "metadata": {
        "id": "XUSXuxsUK46C"
      }
    },
    {
      "cell_type": "code",
      "source": [
        "! mkdir -p shift_register\n",
        "! cd shift_register && curl -O https://raw.githubusercontent.com/FCHXWH823/LLM4ChipDesign/fe806e8f8b7cb8442ce161f452d070cfcf953656/VerilogGenBenchmark/TestBench/shift_register_tb.v"
      ],
      "metadata": {
        "id": "UtmVfnOjnUu1",
        "colab": {
          "base_uri": "https://localhost:8080/"
        },
        "outputId": "12c013a2-fd6f-486a-da37-4e0cfa4543ec"
      },
      "execution_count": 100,
      "outputs": [
        {
          "output_type": "stream",
          "name": "stdout",
          "text": [
            "  % Total    % Received % Xferd  Average Speed   Time    Time     Time  Current\n",
            "                                 Dload  Upload   Total   Spent    Left  Speed\n",
            "\r  0     0    0     0    0     0      0      0 --:--:-- --:--:-- --:--:--     0\r100  1367  100  1367    0     0   7015      0 --:--:-- --:--:-- --:--:--  7046\n"
          ]
        }
      ]
    },
    {
      "cell_type": "code",
      "source": [
        "verilog_generation_prompt = '''\n",
        "I am trying to create a Verilog model for a shift register. It must meet the following specifications:\n",
        "\t- Inputs:\n",
        "\t\t- Clock\n",
        "\t\t- Active-low reset\n",
        "\t\t- Data (1 bit)\n",
        "\t\t- Shift enable\n",
        "\t- Outputs:\n",
        "\t\t- Data (8 bits)\n",
        "\n",
        "How would I write a design that meets these specifications?\n",
        "\n",
        "'''"
      ],
      "metadata": {
        "id": "y0U0H0LoK3Nh"
      },
      "execution_count": 102,
      "outputs": []
    },
    {
      "cell_type": "code",
      "source": [
        "from openai import OpenAI\n",
        "import os\n",
        "client = OpenAI(base_url=\"https://openrouter.ai/api/v1\",\n",
        "    api_key = \"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\"\n",
        ")\n",
        "\n",
        "completion = client.chat.completions.create(\n",
        "  model = \"openrouter/sonoma-sky-alpha\",\n",
        "  messages=[{\"role\":\"user\",\"content\":verilog_generation_prompt}],\n",
        "  max_tokens=1700000, # limits the maximum number of tokens (words or pieces of words) that the model will generate in its response.\n",
        "  stream=False\n",
        ")\n",
        "\n",
        "print(completion.choices[0].message.content)"
      ],
      "metadata": {
        "colab": {
          "base_uri": "https://localhost:8080/"
        },
        "id": "Jou1AcKBTiiz",
        "outputId": "29d0516a-f009-4d8b-fb8f-e8d14c40c225"
      },
      "execution_count": 103,
      "outputs": [
        {
          "output_type": "stream",
          "name": "stdout",
          "text": [
            "Below is a complete Verilog design for an 8-bit serial-in, parallel-out (SIPO) shift register that meets your specifications. I'll explain the key design decisions and then provide the code.\n",
            "\n",
            "### Design Explanation\n",
            "- **Functionality**: \n",
            "  - The register shifts in 1 bit of serial data (`din`) from the least significant bit (LSB) position on each rising clock edge when the shift enable (`en`) is active (high).\n",
            "  - This is a left-shifting register (i.e., `din` enters at bit 0, and the contents shift toward the most significant bit (MSB) at bit 7).\n",
            "  - The parallel output is `q[7:0]`, where `q[7]` holds the oldest bit (shifted in 7 clocks ago) and `q[0]` holds the newest bit (just shifted in).\n",
            "  - If you prefer right-shifting (e.g., `din` entering at the MSB), you can swap the concatenation in the shift logic to `{din, q[7:1]}`—let me know if you'd like that variant.\n",
            "- **Reset**: Active-low asynchronous reset (`rst_n`). When `rst_n` is low, the entire register clears to 8'b0.\n",
            "- **Enable**: The shift only occurs when `en` is high. Otherwise, the register holds its value.\n",
            "- **Assumptions**:\n",
            "  - Standard synchronous design (shifts on positive clock edge).\n",
            "  - No load or other modes—just shift and reset.\n",
            "  - 8 bits as implied by the output width.\n",
            "- **Style**: Behavioral Verilog using a single `always` block for simplicity and synthesizability. This is suitable for FPGA/ASIC implementation.\n",
            "- **Ports**: I've named them intuitively (e.g., `clk`, `rst_n`, `din`, `en`, `q`). You can rename as needed.\n",
            "\n",
            "### Verilog Code\n",
            "```verilog\n",
            "module shift_register_8bit (\n",
            "    input  wire clk,      // Clock input\n",
            "    input  wire rst_n,    // Active-low reset input\n",
            "    input  wire din,      // 1-bit serial data input\n",
            "    input  wire en,       // Shift enable input (active high)\n",
            "    output reg  [7:0] q   // 8-bit parallel data output\n",
            ");\n",
            "\n",
            "    // Asynchronous active-low reset and synchronous shift logic\n",
            "    always @(posedge clk or negedge rst_n) begin\n",
            "        if (!rst_n) begin\n",
            "            q <= 8'b0;  // Reset to all zeros\n",
            "        end else if (en) begin\n",
            "            q <= {q[6:0], din};  // Shift left: din enters at LSB (bit 0)\n",
            "        end\n",
            "        // If !en, q holds its current value (implicit)\n",
            "    end\n",
            "\n",
            "endmodule\n",
            "```\n",
            "\n",
            "### How to Use/Verify This Design\n",
            "1. **Instantiation Example** (in a testbench or higher-level module):\n",
            "   ```verilog\n",
            "   shift_register_8bit uut (\n",
            "       .clk(clk),\n",
            "       .rst_n(rst_n),\n",
            "       .din(din),\n",
            "       .en(en),\n",
            "       .q(q)\n",
            "   );\n",
            "   ```\n",
            "\n",
            "2. **Testbench Sketch** (for simulation in tools like ModelSim or Vivado):\n",
            "   ```verilog\n",
            "   module tb_shift_register_8bit;\n",
            "       reg clk = 0;\n",
            "       reg rst_n = 0;\n",
            "       reg din = 0;\n",
            "       reg en = 0;\n",
            "       wire [7:0] q;\n",
            "\n",
            "       // Instantiate the module\n",
            "       shift_register_8bit uut (\n",
            "           .clk(clk), .rst_n(rst_n), .din(din), .en(en), .q(q)\n",
            "       );\n",
            "\n",
            "       // Clock generation (100 MHz example)\n",
            "       always #5 clk = ~clk;  // 10 ns period\n",
            "\n",
            "       initial begin\n",
            "           // Reset sequence\n",
            "           rst_n = 0; en = 0; din = 0;\n",
            "           #20 rst_n = 1;  // Release reset\n",
            "\n",
            "           // Shift in pattern 10110110 (should appear in q after 8 clocks)\n",
            "           en = 1;\n",
            "           din = 0; #10;  // Bit 0\n",
            "           din = 1; #10;  // Bit 1\n",
            "           din = 1; #10;  // Bit 2\n",
            "           din = 0; #10;  // Bit 3\n",
            "           din = 1; #10;  // Bit 4\n",
            "           din = 0; #10;  // Bit 5\n",
            "           din = 1; #10;  // Bit 6\n",
            "           din = 1; #10;  // Bit 7\n",
            "           din = 0; #10;  // Bit 8 (overflow, q[7] shifts out)\n",
            "\n",
            "           // Disable shift and hold\n",
            "           en = 0; #20;\n",
            "\n",
            "           $display(\"q = %b\", q);  // Should show 10110110 after 8 shifts\n",
            "           $finish;\n",
            "       end\n",
            "   endmodule\n",
            "   ```\n",
            "\n",
            "3. **Synthesis Notes**:\n",
            "   - This infers 8 D flip-flops with reset and enable.\n",
            "   - Ensure your tools (e.g., Xilinx Vivado, Intel Quartus) support Verilog-2001 or later.\n",
            "   - No combinational logic, so it's fully synchronous and glitch-free.\n",
            "\n",
            "If this doesn't match your exact needs (e.g., shift direction, bidirectional shift, or additional features like parallel load), provide more details, and I'll refine it!\n"
          ]
        }
      ]
    },
    {
      "cell_type": "code",
      "metadata": {
        "id": "aeee2251"
      },
      "source": [
        "output_verilog_code = '''\n",
        "module shift_register_8bit (\n",
        "    input  wire clk,      // Clock input\n",
        "    input  wire rst_n,    // Active-low reset input\n",
        "    input  wire din,      // 1-bit serial data input\n",
        "    input  wire en,       // Shift enable input (active high)\n",
        "    output reg  [7:0] q   // 8-bit parallel data output\n",
        ");\n",
        "\n",
        "    // Asynchronous active-low reset and synchronous shift logic\n",
        "    always @(posedge clk or negedge rst_n) begin\n",
        "        if (!rst_n) begin\n",
        "            q <= 8'b0;  // Reset to all zeros\n",
        "        end else if (en) begin\n",
        "            q <= {q[6:0], din};  // Shift left: din enters at LSB (bit 0)\n",
        "        end\n",
        "        // If !en, q holds its current value (implicit)\n",
        "    end\n",
        "\n",
        "endmodule\n",
        "'''\n",
        "filename = \"shift_register/shift_register.v\"\n",
        "# Write the extracted Verilog code to the file\n",
        "with open(filename, \"w\") as f:\n",
        "    f.write(output_verilog_code)"
      ],
      "execution_count": 104,
      "outputs": []
    },
    {
      "cell_type": "code",
      "source": [
        "!cd sequence_detector/ && iverilog -o sequence_detector.vvp sequence_detector.v sequence_detector_tb.v && vvp sequence_detector.vvp"
      ],
      "metadata": {
        "colab": {
          "base_uri": "https://localhost:8080/"
        },
        "id": "0n7_1iFNaLPu",
        "outputId": "1685cb48-a063-4012-f9c0-8f92395d5c0c"
      },
      "execution_count": 105,
      "outputs": [
        {
          "output_type": "stream",
          "name": "stdout",
          "text": [
            "All test cases passed.\n"
          ]
        }
      ]
    },
    {
      "cell_type": "markdown",
      "source": [
        "\n",
        "\n",
        "```\n",
        "# This is formatted as code\n",
        "```\n",
        "\n",
        "### Example 4: Dice Roller"
      ],
      "metadata": {
        "id": "TPEZm5nBoOx0"
      }
    },
    {
      "cell_type": "code",
      "source": [
        "!mkdir -p dice_roller\n",
        "!cd dice_roller && curl -O https://raw.githubusercontent.com/FCHXWH823/LLM4ChipDesign/fe806e8f8b7cb8442ce161f452d070cfcf953656/VerilogGenBenchmark/TestBench/dice_roller_tb.v"
      ],
      "metadata": {
        "id": "lenN3sfCNy6g",
        "colab": {
          "base_uri": "https://localhost:8080/"
        },
        "outputId": "0b6ce614-fda0-42af-8b2e-bfa0f1fa3ea4"
      },
      "execution_count": 106,
      "outputs": [
        {
          "output_type": "stream",
          "name": "stdout",
          "text": [
            "  % Total    % Received % Xferd  Average Speed   Time    Time     Time  Current\n",
            "                                 Dload  Upload   Total   Spent    Left  Speed\n",
            "\r  0     0    0     0    0     0      0      0 --:--:-- --:--:-- --:--:--     0\r100  3416  100  3416    0     0  21529      0 --:--:-- --:--:-- --:--:-- 21620\n"
          ]
        }
      ]
    },
    {
      "cell_type": "code",
      "source": [
        "verilog_generation_prompt = '''\n",
        "I am trying to create a Verilog model for a simulated dice roller. It must meet the following specifications:\n",
        "    - Inputs:\n",
        "        - Clock\n",
        "        - Active-low reset\n",
        "        - Die select (2-bits)\n",
        "        - Roll\n",
        "    - Outputs:\n",
        "        - Rolled number (up to 8-bits)\n",
        "\n",
        "The design should simulate rolling either a 4-sided, 6-sided, 8-sided, or 20-sided die, based on the input die select. It should roll when the roll input goes high and output the random number based on the number of sides of the selected die.\n",
        "\n",
        "How would I write a design that meets these specifications?\n",
        "\n",
        "Code Generated :\n",
        "module dice_roller (\n",
        "    input  wire        clk,        // Clock input\n",
        "    input  wire        rst_n,      // Active-low reset\n",
        "    input  wire [1:0]  die_sel,    // 2-bit die select: 00=4-sided, 01=6, 10=8, 11=20\n",
        "    input  wire        roll,       // Roll trigger (high to roll)\n",
        "    output reg  [7:0]  rolled_num  // Rolled number (1 to 20, upper bits 0)\n",
        ");\n",
        "\n",
        "    // Internal LFSR for pseudo-random generation (8 bits)\n",
        "    reg [7:0] lfsr;\n",
        "\n",
        "    // Detect rising edge of roll\n",
        "    reg roll_prev;\n",
        "    wire roll_rising_edge = roll & ~roll_prev;\n",
        "\n",
        "    // LFSR feedback (simple polynomial for pseudo-randomness)\n",
        "    wire feedback = lfsr[7] ^ lfsr[6] ^ lfsr[5] ^ lfsr[4];\n",
        "\n",
        "    always @(posedge clk or negedge rst_n) begin\n",
        "        if (!rst_n) begin\n",
        "            // Reset state\n",
        "            lfsr        <= 8'h01;  // Non-zero seed to avoid all-zero state\n",
        "            rolled_num  <= 8'h00;  // Default output\n",
        "            roll_prev   <= 1'b0;   // No prior roll\n",
        "        end else begin\n",
        "            // Always update roll_prev for edge detection\n",
        "            roll_prev <= roll;\n",
        "\n",
        "            // Advance LFSR every clock cycle (for continuous randomness)\n",
        "            lfsr <= {lfsr[6:0], feedback};\n",
        "\n",
        "            // On rising edge of roll, compute and update output based on die_sel\n",
        "            if (roll_rising_edge) begin\n",
        "                case (die_sel)\n",
        "                    2'b00: rolled_num <= (lfsr % 8'd4) + 8'd1;  // 4-sided: 1-4\n",
        "                    2'b01: rolled_num <= (lfsr % 8'd6) + 8'd1;  // 6-sided: 1-6\n",
        "                    2'b10: rolled_num <= (lfsr % 8'd8) + 8'd1;  // 8-sided: 1-8\n",
        "                    2'b11: rolled_num <= (lfsr % 8'd20) + 8'd1; // 20-sided: 1-20\n",
        "                    default: rolled_num <= 8'h00;              // Invalid sel: 0 (optional)\n",
        "                endcase\n",
        "            end\n",
        "        end\n",
        "    end\n",
        "\n",
        "endmodule\n",
        "\n",
        "Tool Feedback:\n",
        "dice_roller_tb.v:10: error: port ``die_select'' is not a port of dut.\n",
        "dice_roller_tb.v:10: error: port ``rolled_number'' is not a port of dut.\n",
        "2 error(s) during elaboration.\n",
        "\n",
        "'''"
      ],
      "metadata": {
        "id": "By9HsltQPM3T"
      },
      "execution_count": 113,
      "outputs": []
    },
    {
      "cell_type": "code",
      "source": [
        "from openai import OpenAI\n",
        "import os\n",
        "client = OpenAI(base_url=\"https://openrouter.ai/api/v1\",\n",
        "    api_key = \"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\"\n",
        ")\n",
        "\n",
        "completion = client.chat.completions.create(\n",
        "  model = \"openrouter/sonoma-sky-alpha\",\n",
        "  messages=[{\"role\":\"user\",\"content\":verilog_generation_prompt}],\n",
        "  max_tokens=1700000, # limits the maximum number of tokens (words or pieces of words) that the model will generate in its response.\n",
        "  stream=False\n",
        ")\n",
        "\n",
        "print(completion.choices[0].message.content)"
      ],
      "metadata": {
        "id": "fMf5kJK2Pj1x",
        "colab": {
          "base_uri": "https://localhost:8080/"
        },
        "outputId": "4047ebe8-07fb-452d-bb87-224474520723"
      },
      "execution_count": 115,
      "outputs": [
        {
          "output_type": "stream",
          "name": "stdout",
          "text": [
            "Below is a complete Verilog design for the simulated dice roller that meets your specifications. I've made the following adjustments and improvements based on the provided code and tool feedback:\n",
            "\n",
            "### Key Design Decisions and Fixes\n",
            "- **Port Names**: Updated to match the testbench expectations from the tool feedback (`die_select` instead of `die_sel`, and `rolled_number` instead of `rolled_num`). This should resolve the elaboration errors in your testbench (`dice_roller_tb.v`).\n",
            "- **Random Number Generation**: Retained the Linear Feedback Shift Register (LFSR) for pseudo-randomness, as it's a simple, synthesizable way to generate pseudo-random bits in hardware/simulation. The LFSR advances every clock cycle for continuous randomness.\n",
            "- **Rolling Logic**: Detects the rising edge of the `roll` input (synchronous to `clk`). On a rising edge, it computes the rolled number based on `die_select` and latches it into the output. The output holds its value until the next roll.\n",
            "- **Die Selection**:\n",
            "  - `2'b00`: 4-sided die (output: 1-4)\n",
            "  - `2'b01`: 6-sided die (output: 1-6)\n",
            "  - `2'b10`: 8-sided die (output: 1-8)\n",
            "  - `2'b11`: 20-sided die (output: 1-20)\n",
            "- **Modulo Operation**: Used `lfsr % N` for simplicity in simulation. Note that this can introduce slight bias for non-power-of-2 values (e.g., 6 or 20), as the LFSR range (0-255) isn't evenly divisible. For production hardware, consider rejection sampling (e.g., regenerate if out of range) to ensure uniformity, but this keeps the design simple and synthesizable.\n",
            "- **Reset Behavior**: Active-low reset (`rst_n`) initializes the LFSR to a non-zero seed (to avoid stuck-at-zero) and clears the output.\n",
            "- **Output Width**: 8 bits, with upper bits zero-padded (e.g., a 4-sided roll outputs `8'd1` to `8'd4`).\n",
            "- **Synthesizability**: This is fully synthesizable for FPGAs/ASICs. No non-synthesizable constructs (e.g., `$random` for simulation-only).\n",
            "- **Assumptions**: `roll` is a level-sensitive input (high to trigger). The design is synchronous to `clk`. Invalid `die_select` defaults to 0 (though all 2-bit values are valid here).\n",
            "\n",
            "### Verilog Module\n",
            "```verilog\n",
            "module dice_roller (\n",
            "    input  wire        clk,           // Clock input\n",
            "    input  wire        rst_n,         // Active-low reset\n",
            "    input  wire [1:0]  die_select,    // 2-bit die select: 00=4-sided, 01=6-sided, 10=8-sided, 11=20-sided\n",
            "    input  wire        roll,          // Roll trigger (high to roll)\n",
            "    output reg  [7:0]  rolled_number  // Rolled number (1 to 20, upper bits 0 for smaller dice)\n",
            ");\n",
            "\n",
            "    // Internal LFSR for pseudo-random generation (8 bits)\n",
            "    reg [7:0] lfsr;\n",
            "    \n",
            "    // Detect rising edge of roll\n",
            "    reg roll_prev;\n",
            "    wire roll_rising_edge = roll & ~roll_prev;\n",
            "    \n",
            "    // LFSR feedback polynomial (simple primitive polynomial for good randomness: x^8 + x^6 + x^5 + x^4 + 1)\n",
            "    wire feedback = lfsr[7] ^ lfsr[6] ^ lfsr[5] ^ lfsr[4];\n",
            "\n",
            "    always @(posedge clk or negedge rst_n) begin\n",
            "        if (!rst_n) begin\n",
            "            // Reset state\n",
            "            lfsr         <= 8'h01;       // Non-zero seed to avoid all-zero state\n",
            "            rolled_number <= 8'h00;      // Default output (0)\n",
            "            roll_prev    <= 1'b0;        // No prior roll\n",
            "        end else begin\n",
            "            // Always update previous roll for edge detection\n",
            "            roll_prev <= roll;\n",
            "            \n",
            "            // Advance LFSR every clock cycle (for continuous pseudo-randomness)\n",
            "            lfsr <= {lfsr[6:0], feedback};\n",
            "            \n",
            "            // On rising edge of roll, compute and latch output based on die_select\n",
            "            if (roll_rising_edge) begin\n",
            "                case (die_select)\n",
            "                    2'b00: rolled_number <= (lfsr % 8'd4) + 8'd1;   // 4-sided: 1-4\n",
            "                    2'b01: rolled_number <= (lfsr % 8'd6) + 8'd1;   // 6-sided: 1-6\n",
            "                    2'b10: rolled_number <= (lfsr % 8'd8) + 8'd1;   // 8-sided: 1-8\n",
            "                    2'b11: rolled_number <= (lfsr % 8'd20) + 8'd1;  // 20-sided: 1-20\n",
            "                    default: rolled_number <= 8'h00;               // Invalid (shouldn't occur): 0\n",
            "                endcase\n",
            "            end\n",
            "            // Output holds value otherwise\n",
            "        end\n",
            "    end\n",
            "\n",
            "endmodule\n",
            "```\n",
            "\n",
            "### How It Works\n",
            "1. **LFSR Operation**: The 8-bit LFSR shifts right every clock cycle, with feedback from bits [7:4] XORed to generate the new LSB. This produces a pseudo-random sequence with a period up to 255 (maximal for this polynomial).\n",
            "2. **Edge Detection**: `roll_rising_edge` triggers only when `roll` goes from low to high (detected synchronously).\n",
            "3. **Rolling**: On trigger, the current `lfsr` value is scaled to the die's range using modulo and offset (+1 for 1-based numbering). The result is latched into `rolled_number`.\n",
            "4. **Reset**: Clears everything. The LFSR starts at `8'h01` to ensure it doesn't lock into all zeros.\n",
            "5. **Simulation Behavior**: In a simulator (e.g., ModelSim, Vivado), this will produce varying outputs each time `roll` pulses high, depending on how many clocks have passed since the last roll (advancing the LFSR).\n",
            "\n",
            "### Example Testbench Snippet\n",
            "To help you verify, here's a basic testbench skeleton (`dice_roller_tb.v`). This assumes a clock period of 10ns and tests all die types. You can expand it for more rolls or edge cases.\n",
            "\n",
            "```verilog\n",
            "`timescale 1ns / 1ps\n",
            "\n",
            "module dice_roller_tb;\n",
            "    reg         clk;\n",
            "    reg         rst_n;\n",
            "    reg [1:0]   die_select;\n",
            "    reg         roll;\n",
            "    wire [7:0]  rolled_number;\n",
            "\n",
            "    // Instantiate DUT\n",
            "    dice_roller dut (\n",
            "        .clk(clk),\n",
            "        .rst_n(rst_n),\n",
            "        .die_select(die_select),\n",
            "        .roll(roll),\n",
            "        .rolled_number(rolled_number)\n",
            "    );\n",
            "\n",
            "    // Clock generation (10ns period)\n",
            "    always #5 clk = ~clk;\n",
            "\n",
            "    initial begin\n",
            "        // Initialize\n",
            "        clk = 0;\n",
            "        rst_n = 0;\n",
            "        die_select = 2'b00;\n",
            "        roll = 0;\n",
            "\n",
            "        // Reset\n",
            "        #20 rst_n = 1;\n",
            "        #20;\n",
            "\n",
            "        // Test 4-sided die\n",
            "        die_select = 2'b00;\n",
            "        #10 roll = 1; #10 roll = 0;  // Pulse roll\n",
            "        #20 $display(\"4-sided roll: %d\", rolled_number);\n",
            "\n",
            "        // Test 6-sided die\n",
            "        die_select = 2'b01;\n",
            "        #10 roll = 1; #10 roll = 0;\n",
            "        #20 $display(\"6-sided roll: %d\", rolled_number);\n",
            "\n",
            "        // Test 8-sided die\n",
            "        die_select = 2'b10;\n",
            "        #10 roll = 1; #10 roll = 0;\n",
            "        #20 $display(\"8-sided roll: %d\", rolled_number);\n",
            "\n",
            "        // Test 20-sided die\n",
            "        die_select = 2'b11;\n",
            "        #10 roll = 1; #10 roll = 0;\n",
            "        #20 $display(\"20-sided roll: %d\", rolled_number);\n",
            "\n",
            "        #50 $finish;\n",
            "    end\n",
            "\n",
            "    // Monitor output\n",
            "    always @(posedge clk) begin\n",
            "        if (rst_n) $monitor(\"Time: %t | die_select: %b | roll: %b | rolled_number: %d\", $time, die_select, roll, rolled_number);\n",
            "    end\n",
            "\n",
            "endmodule\n",
            "```\n",
            "\n",
            "### Simulation and Synthesis Notes\n",
            "- **Running the Testbench**: Compile and simulate with your tool (e.g., `vlog dice_roller.v dice_roller_tb.v; vsim -c dice_roller_tb`). You should see varying rolled numbers (pseudo-random due to LFSR). The exact values will differ each run unless you seed the simulator.\n",
            "- **Potential Improvements**:\n",
            "  - **Unbiased Randomness**: For 6/20-sided, replace modulo with rejection: e.g., `reg [7:0] rand_val = lfsr; if (rand_val >= 20 * (256/20)) /* retry, but needs multi-cycle */`. This requires a state machine.\n",
            "  - **Longer LFSR**: Use 16-32 bits for better randomness/period.\n",
            "  - **Power-of-2 Dice**: 4/8 are already unbiased (bit masking instead of modulo).\n",
            "- **Synthesis**: Tools like Vivado or Quartus will infer flip-flops for the LFSR and output. The modulo will be implemented as combinational logic (division circuitry), which is fine for small constants.\n",
            "\n",
            "If you provide your full testbench or more details (e.g., waveform expectations), I can refine this further!\n"
          ]
        }
      ]
    },
    {
      "cell_type": "code",
      "source": [
        "output_verilog_code = '''\n",
        "module dice_roller (\n",
        "    input  wire        clk,           // Clock input\n",
        "    input  wire        rst_n,         // Active-low reset\n",
        "    input  wire [1:0]  die_select,    // 2-bit die select: 00=4-sided, 01=6-sided, 10=8-sided, 11=20-sided\n",
        "    input  wire        roll,          // Roll trigger (high to roll)\n",
        "    output reg  [7:0]  rolled_number  // Rolled number (1 to 20, upper bits 0 for smaller dice)\n",
        ");\n",
        "\n",
        "    // Internal LFSR for pseudo-random generation (8 bits)\n",
        "    reg [7:0] lfsr;\n",
        "\n",
        "    // Detect rising edge of roll\n",
        "    reg roll_prev;\n",
        "    wire roll_rising_edge = roll & ~roll_prev;\n",
        "\n",
        "    // LFSR feedback polynomial (simple primitive polynomial for good randomness: x^8 + x^6 + x^5 + x^4 + 1)\n",
        "    wire feedback = lfsr[7] ^ lfsr[6] ^ lfsr[5] ^ lfsr[4];\n",
        "\n",
        "    always @(posedge clk or negedge rst_n) begin\n",
        "        if (!rst_n) begin\n",
        "            // Reset state\n",
        "            lfsr         <= 8'h01;       // Non-zero seed to avoid all-zero state\n",
        "            rolled_number <= 8'h00;      // Default output (0)\n",
        "            roll_prev    <= 1'b0;        // No prior roll\n",
        "        end else begin\n",
        "            // Always update previous roll for edge detection\n",
        "            roll_prev <= roll;\n",
        "\n",
        "            // Advance LFSR every clock cycle (for continuous pseudo-randomness)\n",
        "            lfsr <= {lfsr[6:0], feedback};\n",
        "\n",
        "            // On rising edge of roll, compute and latch output based on die_select\n",
        "            if (roll_rising_edge) begin\n",
        "                case (die_select)\n",
        "                    2'b00: rolled_number <= (lfsr % 8'd4) + 8'd1;   // 4-sided: 1-4\n",
        "                    2'b01: rolled_number <= (lfsr % 8'd6) + 8'd1;   // 6-sided: 1-6\n",
        "                    2'b10: rolled_number <= (lfsr % 8'd8) + 8'd1;   // 8-sided: 1-8\n",
        "                    2'b11: rolled_number <= (lfsr % 8'd20) + 8'd1;  // 20-sided: 1-20\n",
        "                    default: rolled_number <= 8'h00;               // Invalid (shouldn't occur): 0\n",
        "                endcase\n",
        "            end\n",
        "            // Output holds value otherwise\n",
        "        end\n",
        "    end\n",
        "\n",
        "endmodule\n",
        "'''\n",
        "filename = \"dice_roller/dice_roller.v\"\n",
        "# Write the extracted Verilog code to the file\n",
        "with open(filename, \"w\") as f:\n",
        "    f.write(output_verilog_code)"
      ],
      "metadata": {
        "collapsed": true,
        "id": "Y7YeDVvpPvH8"
      },
      "execution_count": 116,
      "outputs": []
    },
    {
      "cell_type": "code",
      "source": [
        "!cd dice_roller/ && iverilog -o dice_roller.vvp dice_roller.v dice_roller_tb.v && vvp dice_roller.vvp"
      ],
      "metadata": {
        "id": "AA7PCY5Qot6I",
        "colab": {
          "base_uri": "https://localhost:8080/"
        },
        "outputId": "7abdc8ca-fcbf-4cb1-f449-2d35982eb768"
      },
      "execution_count": 117,
      "outputs": [
        {
          "output_type": "stream",
          "name": "stdout",
          "text": [
            "VCD info: dumpfile my_design.vcd opened for output.\n",
            "Results for die_select 00:\n",
            "  Rolled           1:        254 times\n",
            "  Rolled           2:        253 times\n",
            "  Rolled           3:        250 times\n",
            "  Rolled           4:        243 times\n",
            "Results for die_select 01:\n",
            "  Rolled           1:        168 times\n",
            "  Rolled           2:        165 times\n",
            "  Rolled           3:        163 times\n",
            "  Rolled           4:        188 times\n",
            "  Rolled           5:        164 times\n",
            "  Rolled           6:        152 times\n",
            "Results for die_select 10:\n",
            "  Rolled           1:        129 times\n",
            "  Rolled           2:        123 times\n",
            "  Rolled           3:        127 times\n",
            "  Rolled           4:        120 times\n",
            "  Rolled           5:        127 times\n",
            "  Rolled           6:        125 times\n",
            "  Rolled           7:        125 times\n",
            "  Rolled           8:        124 times\n",
            "Results for die_select 11:\n",
            "  Rolled           1:         58 times\n",
            "  Rolled           2:         57 times\n",
            "  Rolled           3:         54 times\n",
            "  Rolled           4:         55 times\n",
            "  Rolled           5:         55 times\n",
            "  Rolled           6:         47 times\n",
            "  Rolled           7:         41 times\n",
            "  Rolled           8:         49 times\n",
            "  Rolled           9:         58 times\n",
            "  Rolled          10:         50 times\n",
            "  Rolled          11:         58 times\n",
            "  Rolled          12:         51 times\n",
            "  Rolled          13:         45 times\n",
            "  Rolled          14:         47 times\n",
            "  Rolled          15:         47 times\n",
            "  Rolled          16:         52 times\n",
            "  Rolled          17:         37 times\n",
            "  Rolled          18:         48 times\n",
            "  Rolled          19:         46 times\n",
            "  Rolled          20:         45 times\n",
            "Testbench completed successfully.\n"
          ]
        }
      ]
    },
    {
      "cell_type": "markdown",
      "source": [
        "### Example 5: Token Bucket"
      ],
      "metadata": {
        "id": "2mYgO272qj_P"
      }
    },
    {
      "cell_type": "code",
      "source": [
        "!mkdir -p token_bucket/\n",
        "!cd token_bucket/ && curl -O https://raw.githubusercontent.com/EMBEDDED-JUICE/TokenBucket/main/tokenbucket_tb.v\n"
      ],
      "metadata": {
        "id": "nyahVfomQeMT",
        "colab": {
          "base_uri": "https://localhost:8080/"
        },
        "outputId": "fdb07dc3-0ef0-44f0-91e3-8b6523bcc27f"
      },
      "execution_count": 160,
      "outputs": [
        {
          "output_type": "stream",
          "name": "stdout",
          "text": [
            "  % Total    % Received % Xferd  Average Speed   Time    Time     Time  Current\n",
            "                                 Dload  Upload   Total   Spent    Left  Speed\n",
            "\r  0     0    0     0    0     0      0      0 --:--:-- --:--:-- --:--:--     0\r100  4706  100  4706    0     0  28485      0 --:--:-- --:--:-- --:--:-- 28521\n"
          ]
        }
      ]
    },
    {
      "cell_type": "code",
      "source": [
        "verilog_generation_prompt = '''\n",
        "Write a Verilog module named token_bucket that implements a token bucket rate limiter.\n",
        "\n",
        "\n",
        "Parameters:\n",
        "\n",
        "DEN (default 16): denominator for fractional rate control (tokens per request).\n",
        "\n",
        "RATE_NUM (default 3): number of tokens added per cycle.\n",
        "\n",
        "BURST_MAX (default 8): maximum burst size, expressed in requests.\n",
        "\n",
        "TOKEN_COST (default = DEN): tokens consumed per granted request.\n",
        "\n",
        "Inputs:\n",
        "\n",
        "clk: clock.\n",
        "\n",
        "rst_n: active-low synchronous reset.\n",
        "\n",
        "req_i: request input.\n",
        "\n",
        "Outputs:\n",
        "\n",
        "grant_o: asserted when a request is accepted and tokens are consumed.\n",
        "\n",
        "ready_o: asserted whenever enough tokens are available for a request.\n",
        "\n",
        "Functional Behavior:\n",
        "\n",
        "Maintain an internal token counter (width at least 32 bits).\n",
        "\n",
        "On every clock cycle, add RATE_NUM tokens, but do not exceed the maximum capacity (BURST_MAX * DEN).\n",
        "\n",
        "If req_i is high and tokens ≥ TOKEN_COST:\n",
        "\n",
        "Assert grant_o for one cycle.\n",
        "\n",
        "Subtract TOKEN_COST tokens.\n",
        "\n",
        "Otherwise, keep grant_o low.\n",
        "\n",
        "ready_o is high whenever tokens ≥ TOKEN_COST.\n",
        "\n",
        "On reset (rst_n = 0), initialize the token counter to full capacity (BURST_MAX * DEN) and clear grant_o.\n",
        "\n",
        "'''"
      ],
      "metadata": {
        "id": "KIZt85LSqxtZ"
      },
      "execution_count": 165,
      "outputs": []
    },
    {
      "cell_type": "code",
      "source": [
        "from openai import OpenAI\n",
        "import os\n",
        "client = OpenAI(base_url=\"https://openrouter.ai/api/v1\",\n",
        "    api_key = \"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\"\n",
        ")\n",
        "\n",
        "completion = client.chat.completions.create(\n",
        "  model = \"openrouter/sonoma-sky-alpha\",\n",
        "  messages=[{\"role\":\"user\",\"content\":verilog_generation_prompt}],\n",
        "  max_tokens=1700000, # limits the maximum number of tokens (words or pieces of words) that the model will generate in its response.\n",
        "  stream=False\n",
        ")\n",
        "\n",
        "print(completion.choices[0].message.content)"
      ],
      "metadata": {
        "id": "JGFID_llq2kT",
        "colab": {
          "base_uri": "https://localhost:8080/"
        },
        "outputId": "c4bd60aa-315a-4159-840e-273c85f9d226"
      },
      "execution_count": 157,
      "outputs": [
        {
          "output_type": "stream",
          "name": "stdout",
          "text": [
            "```verilog\n",
            "module token_bucket #(\n",
            "    parameter DEN = 16,\n",
            "    parameter RATE_NUM = 3,\n",
            "    parameter BURST_MAX = 8,\n",
            "    parameter TOKEN_COST = DEN\n",
            ") (\n",
            "    input wire clk,\n",
            "    input wire rst_n,\n",
            "    input wire req_i,\n",
            "    output wire grant_o,\n",
            "    output wire ready_o\n",
            ");\n",
            "\n",
            "    localparam [31:0] MAX_TOKENS = BURST_MAX * DEN;\n",
            "\n",
            "    reg [31:0] tokens;\n",
            "    reg grant_o_reg;\n",
            "\n",
            "    assign grant_o = grant_o_reg;\n",
            "    assign ready_o = (tokens >= TOKEN_COST);\n",
            "\n",
            "    wire [31:0] added_tokens;\n",
            "    assign added_tokens = (tokens + RATE_NUM > MAX_TOKENS) ? MAX_TOKENS : (tokens + RATE_NUM);\n",
            "\n",
            "    always @(posedge clk) begin\n",
            "        if (!rst_n) begin\n",
            "            tokens <= MAX_TOKENS;\n",
            "            grant_o_reg <= 1'b0;\n",
            "        end else begin\n",
            "            grant_o_reg <= 1'b0;\n",
            "            if (req_i && (added_tokens >= TOKEN_COST)) begin\n",
            "                grant_o_reg <= 1'b1;\n",
            "                tokens <= added_tokens - TOKEN_COST;\n",
            "            end else begin\n",
            "                tokens <= added_tokens;\n",
            "            end\n",
            "        end\n",
            "    end\n",
            "\n",
            "endmodule\n",
            "```\n"
          ]
        }
      ]
    },
    {
      "cell_type": "code",
      "source": [
        "output_verilog_code = '''\n",
        "module token_bucket #(\n",
        "    parameter DEN = 16,\n",
        "    parameter RATE_NUM = 3,\n",
        "    parameter BURST_MAX = 8,\n",
        "    parameter TOKEN_COST = DEN\n",
        ") (\n",
        "    input wire clk,\n",
        "    input wire rst_n,\n",
        "    input wire req_i,\n",
        "    output wire grant_o,\n",
        "    output wire ready_o\n",
        ");\n",
        "\n",
        "    localparam [31:0] MAX_TOKENS = BURST_MAX * DEN;\n",
        "\n",
        "    reg [31:0] tokens;\n",
        "    reg grant_o_reg;\n",
        "\n",
        "    assign grant_o = grant_o_reg;\n",
        "    assign ready_o = (tokens >= TOKEN_COST);\n",
        "\n",
        "    wire [31:0] added_tokens;\n",
        "    assign added_tokens = (tokens + RATE_NUM > MAX_TOKENS) ? MAX_TOKENS : (tokens + RATE_NUM);\n",
        "\n",
        "    always @(posedge clk) begin\n",
        "        if (!rst_n) begin\n",
        "            tokens <= MAX_TOKENS;\n",
        "            grant_o_reg <= 1'b0;\n",
        "        end else begin\n",
        "            grant_o_reg <= 1'b0;\n",
        "            if (req_i && (added_tokens >= TOKEN_COST)) begin\n",
        "                grant_o_reg <= 1'b1;\n",
        "                tokens <= added_tokens - TOKEN_COST;\n",
        "            end else begin\n",
        "                tokens <= added_tokens;\n",
        "            end\n",
        "        end\n",
        "    end\n",
        "\n",
        "endmodule\n",
        "'''\n",
        "filename = \"token_bucket/token_bucket.v\"\n",
        "# Write the extracted Verilog code to the file\n",
        "with open(filename, \"w\") as f:\n",
        "    f.write(output_verilog_code)"
      ],
      "metadata": {
        "id": "jwGMDyqiq5RV"
      },
      "execution_count": 162,
      "outputs": []
    },
    {
      "cell_type": "code",
      "source": [
        "!cd token_bucket// && iverilog -o token_bucket.vvp token_bucket.v tokenbucket_tb.v && vvp token_bucket.vvp"
      ],
      "metadata": {
        "id": "k9OBCV4lrL8E",
        "colab": {
          "base_uri": "https://localhost:8080/"
        },
        "outputId": "a5cc4fca-6107-45c6-9da0-009920e06b7c"
      },
      "execution_count": 163,
      "outputs": [
        {
          "output_type": "stream",
          "name": "stdout",
          "text": [
            "VCD info: dumpfile token_bucket.vcd opened for output.\n",
            "====================================================\n",
            "Requests total : 425\n",
            "Grants (ref)   : 138\n",
            "Grants (DUT)   : 138\n",
            "Errors         : 0\n",
            "RESULT: PASS (DUT == reference, shaped correctly)\n",
            "Avg rate target ~ 3/16 = 0.187500 req/cycle\n",
            "VCD written to token_bucket.vcd\n",
            "====================================================\n"
          ]
        }
      ]
    }
  ]
}